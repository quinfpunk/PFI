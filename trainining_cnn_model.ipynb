{
  "cells": [
    {
      "cell_type": "markdown",
      "metadata": {
        "id": "9ct4vxohMZmk"
      },
      "source": [
        "# I. Libraries"
      ]
    },
    {
      "cell_type": "code",
      "execution_count": 1,
      "metadata": {
        "id": "aFRi32SwMR15"
      },
      "outputs": [],
      "source": [
        "from utils import *\n",
        "from cnn_model import *"
      ]
    },
    {
      "cell_type": "markdown",
      "metadata": {
        "id": "WOYadcgMMe13"
      },
      "source": [
        "# II. Data importation"
      ]
    },
    {
      "cell_type": "code",
      "execution_count": 2,
      "metadata": {
        "colab": {
          "base_uri": "https://localhost:8080/",
          "height": 56
        },
        "id": "M2sno1thM__t",
        "outputId": "d8d6583e-3c03-4cb1-e9a5-8a5231472392"
      },
      "outputs": [],
      "source": [
        "train_dataset, val_dataset, test_dataset = get_datasets()\n",
        "nb_class = len(train_dataset.classes)\n",
        "train_loader, val_loader , test_loader = get_data_loaders(train_dataset, val_dataset, test_dataset)"
      ]
    },
    {
      "cell_type": "markdown",
      "metadata": {
        "id": "9PK-cMAWNFYc"
      },
      "source": [
        "# III. Model"
      ]
    },
    {
      "cell_type": "code",
      "execution_count": 3,
      "metadata": {
        "id": "MnksseilNIo7"
      },
      "outputs": [],
      "source": [
        "ship_model = ShipClassificationCNN(img_height=128, img_width=128, num_classes=nb_class)"
      ]
    },
    {
      "cell_type": "markdown",
      "metadata": {
        "id": "WsArJqGnRC4q"
      },
      "source": [
        "# IV. Train/Val & Save model"
      ]
    },
    {
      "cell_type": "code",
      "execution_count": 4,
      "metadata": {
        "id": "p-RnYf3oRHP-"
      },
      "outputs": [
        {
          "name": "stderr",
          "output_type": "stream",
          "text": [
            "                                                                        \r"
          ]
        },
        {
          "name": "stdout",
          "output_type": "stream",
          "text": [
            "Epoch 1/10 | Avg Train Loss: 1.0522 | Avg Val Loss: 0.6889 | Accuracy: 78.37%\n",
            "✅ Model saved as best_ship_cnn_model.pth (Best Val Loss: 0.6889)\n"
          ]
        },
        {
          "name": "stderr",
          "output_type": "stream",
          "text": [
            "                                                                        \r"
          ]
        },
        {
          "name": "stdout",
          "output_type": "stream",
          "text": [
            "Epoch 2/10 | Avg Train Loss: 0.4046 | Avg Val Loss: 0.5806 | Accuracy: 82.58%\n",
            "✅ Model saved as best_ship_cnn_model.pth (Best Val Loss: 0.5806)\n"
          ]
        },
        {
          "name": "stderr",
          "output_type": "stream",
          "text": [
            "                                                                        \r"
          ]
        },
        {
          "name": "stdout",
          "output_type": "stream",
          "text": [
            "Epoch 3/10 | Avg Train Loss: 0.1725 | Avg Val Loss: 0.7185 | Accuracy: 82.29%\n"
          ]
        },
        {
          "name": "stderr",
          "output_type": "stream",
          "text": [
            "                                                                        \r"
          ]
        },
        {
          "name": "stdout",
          "output_type": "stream",
          "text": [
            "Epoch 4/10 | Avg Train Loss: 0.0907 | Avg Val Loss: 0.8048 | Accuracy: 84.18%\n"
          ]
        },
        {
          "name": "stderr",
          "output_type": "stream",
          "text": [
            "                                                                        \r"
          ]
        },
        {
          "name": "stdout",
          "output_type": "stream",
          "text": [
            "Epoch 5/10 | Avg Train Loss: 0.0321 | Avg Val Loss: 0.9089 | Accuracy: 83.60%\n"
          ]
        },
        {
          "name": "stderr",
          "output_type": "stream",
          "text": [
            "                                                                        \r"
          ]
        },
        {
          "name": "stdout",
          "output_type": "stream",
          "text": [
            "Epoch 6/10 | Avg Train Loss: 0.0324 | Avg Val Loss: 0.9007 | Accuracy: 84.62%\n"
          ]
        },
        {
          "name": "stderr",
          "output_type": "stream",
          "text": [
            "                                                                        \r"
          ]
        },
        {
          "name": "stdout",
          "output_type": "stream",
          "text": [
            "Epoch 7/10 | Avg Train Loss: 0.0464 | Avg Val Loss: 1.1560 | Accuracy: 82.29%\n"
          ]
        },
        {
          "name": "stderr",
          "output_type": "stream",
          "text": [
            "                                                                        \r"
          ]
        },
        {
          "name": "stdout",
          "output_type": "stream",
          "text": [
            "Epoch 8/10 | Avg Train Loss: 0.0504 | Avg Val Loss: 0.9250 | Accuracy: 84.76%\n"
          ]
        },
        {
          "name": "stderr",
          "output_type": "stream",
          "text": [
            "                                                                        \r"
          ]
        },
        {
          "name": "stdout",
          "output_type": "stream",
          "text": [
            "Epoch 9/10 | Avg Train Loss: 0.0144 | Avg Val Loss: 1.1530 | Accuracy: 82.29%\n"
          ]
        },
        {
          "name": "stderr",
          "output_type": "stream",
          "text": [
            "                                                                         "
          ]
        },
        {
          "name": "stdout",
          "output_type": "stream",
          "text": [
            "Epoch 10/10 | Avg Train Loss: 0.0158 | Avg Val Loss: 0.9660 | Accuracy: 86.36%\n"
          ]
        },
        {
          "name": "stderr",
          "output_type": "stream",
          "text": [
            "\r"
          ]
        },
        {
          "data": {
            "image/png": "[encoded data removed]",
            "text/plain": [
              "<Figure size 800x500 with 1 Axes>"
            ]
          },
          "metadata": {},
          "output_type": "display_data"
        }
      ],
      "source": [
        "# Instantiate and train the model\n",
        "train_save_model(ship_model, train_loader, val_loader, epochs=10, save_path=\"best_ship_cnn_model.pth\")"
      ]
    }
  ],
  "metadata": {
    "colab": {
      "provenance": []
    },
    "kernelspec": {
      "display_name": "Python 3",
      "name": "python3"
    },
    "language_info": {
      "codemirror_mode": {
        "name": "ipython",
        "version": 3
      },
      "file_extension": ".py",
      "mimetype": "text/x-python",
      "name": "python",
      "nbconvert_exporter": "python",
      "pygments_lexer": "ipython3",
      "version": "3.12.9"
    }
  },
  "nbformat": 4,
  "nbformat_minor": 0
}
